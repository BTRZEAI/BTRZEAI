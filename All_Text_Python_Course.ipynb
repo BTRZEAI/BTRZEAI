{
  "nbformat": 4,
  "nbformat_minor": 0,
  "metadata": {
    "colab": {
      "provenance": [],
      "mount_file_id": "1VpTLDuSBZ_sP5DIWqdy_mcWYGfMKhtIm",
      "authorship_tag": "ABX9TyPEtSZ3gZdgMb6UcqyNjnpE",
      "include_colab_link": true
    },
    "kernelspec": {
      "name": "python3",
      "display_name": "Python 3"
    },
    "language_info": {
      "name": "python"
    }
  },
  "cells": [
    {
      "cell_type": "markdown",
      "metadata": {
        "id": "view-in-github",
        "colab_type": "text"
      },
      "source": [
        "<a href=\"https://colab.research.google.com/github/BTRZEAI/BTRZEAI/blob/main/All_Text_Python_Course.ipynb\" target=\"_parent\"><img src=\"https://colab.research.google.com/assets/colab-badge.svg\" alt=\"Open In Colab\"/></a>"
      ]
    },
    {
      "cell_type": "code",
      "execution_count": null,
      "metadata": {
        "id": "K1HGrBg6Zj7f"
      },
      "outputs": [],
      "source": []
    }
  ]
}